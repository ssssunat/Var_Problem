{
 "cells": [
  {
   "cell_type": "code",
   "execution_count": 15,
   "id": "83edc5e7",
   "metadata": {},
   "outputs": [],
   "source": [
    "from sympy import *"
   ]
  },
  {
   "cell_type": "code",
   "execution_count": 16,
   "id": "a601156b",
   "metadata": {},
   "outputs": [],
   "source": [
    "t = Symbol('t') \n",
    "x = symbols('x', cls=Function)\n",
    "h = symbols('h', cls=Function)\n",
    "J = symbols('J', cls=Function)\n",
    "C1, C2, A1, A2 = symbols('C1 C2 A1 A2')\n",
    "t1, t2, x1, x2, l, T = symbols('t1 t2 x1 x2 l T')"
   ]
  },
  {
   "cell_type": "code",
   "execution_count": 17,
   "id": "75f5095d",
   "metadata": {},
   "outputs": [
    {
     "name": "stdout",
     "output_type": "stream",
     "text": [
      "Введите лагранжиан: \n",
      "(x(t).diff(t))**2-x(t)\n",
      "Введите терминальную часть, если она есть, иначе -: \n",
      "x2**2 + x1**2\n",
      "Введите параметры t1, t2: \n",
      "t1: 0\n",
      "t2: 1\n"
     ]
    }
   ],
   "source": [
    "inp = ''\n",
    "inp\n",
    "flag = 0\n",
    "a = ''\n",
    "b = ''\n",
    "t11 = ''\n",
    "t12 = ''\n",
    "print(\"Введите лагранжиан: \")\n",
    "inp = input()\n",
    "print(\"Введите терминальную часть, если она есть, иначе -: \")\n",
    "inp1 = input()\n",
    "print(\"Введите параметры t1, t2: \")\n",
    "t11 = input(\"t1: \")\n",
    "t12 = input(\"t2: \")\n",
    "if inp1 == '-':\n",
    "    print(\"Введите параметры x(t1), x(t2). Если конец не закреплен, то поставьте -: \")\n",
    "    a = input(\"x(t1): \")\n",
    "    b = input(\"x(t2): \")\n",
    "    if a == '-':\n",
    "        if b == '-':\n",
    "            flag = 12\n",
    "        else:\n",
    "            flag = 1\n",
    "    elif b == '-':\n",
    "        flag = 2\n",
    "else:\n",
    "    flag = 3"
   ]
  },
  {
   "cell_type": "code",
   "execution_count": 18,
   "id": "78ebb862",
   "metadata": {},
   "outputs": [
    {
     "data": {
      "text/latex": [
       "$\\displaystyle J{\\left(t \\right)} = x_{1}^{2} + x_{2}^{2} + \\int\\limits_{0}^{1} \\left(- x{\\left(t \\right)} + \\left(\\frac{d}{d t} x{\\left(t \\right)}\\right)^{2}\\right)\\, dt$"
      ],
      "text/plain": [
       "Eq(J(t), x1**2 + x2**2 + Integral(-x(t) + Derivative(x(t), t)**2, (t, 0, 1)))"
      ]
     },
     "execution_count": 18,
     "metadata": {},
     "output_type": "execute_result"
    }
   ],
   "source": [
    "#вариационная задача\n",
    "#lagr = t**(Rational(2,3)) * (x(t).diff(t))**2\n",
    "#lagr1 = \"x(t)*t + (x(t).diff(t))**2\"\n",
    "#lagr2 = \"(x(t).diff(t))**2-x(t)\"\n",
    "#l = x2**2 + x1**2\n",
    "lagr = parse_expr(inp)\n",
    "t1 = parse_expr(t11)\n",
    "t2 = parse_expr(t12)\n",
    "#t1 = 0\n",
    "#t2 = 1\n",
    "#x1 = 0\n",
    "#x2 = 0\n",
    "if inp1 != '-':\n",
    "    l = parse_expr(inp1)\n",
    "Eq(J(t),Integral(lagr,(t,t1,t2))+l)"
   ]
  },
  {
   "cell_type": "code",
   "execution_count": 19,
   "id": "dfc45a3e",
   "metadata": {},
   "outputs": [
    {
     "data": {
      "text/latex": [
       "$\\displaystyle - 2 \\frac{d^{2}}{d t^{2}} x{\\left(t \\right)} - 1 = 0$"
      ],
      "text/plain": [
       "Eq(-2*Derivative(x(t), (t, 2)) - 1, 0)"
      ]
     },
     "execution_count": 19,
     "metadata": {},
     "output_type": "execute_result"
    }
   ],
   "source": [
    "#уравнение Эйлера\n",
    "f = (-lagr.diff(x(t).diff(t))).diff(t) + lagr.diff(x(t))\n",
    "feq = Eq(f,0)\n",
    "feq"
   ]
  },
  {
   "cell_type": "code",
   "execution_count": 20,
   "id": "523c763b",
   "metadata": {},
   "outputs": [
    {
     "data": {
      "text/latex": [
       "$\\displaystyle x{\\left(t \\right)} = C_{1} + C_{2} t - \\frac{t^{2}}{4}$"
      ],
      "text/plain": [
       "Eq(x(t), C1 + C2*t - t**2/4)"
      ]
     },
     "execution_count": 20,
     "metadata": {},
     "output_type": "execute_result"
    }
   ],
   "source": [
    "#решение уравнения Эйлера\n",
    "sol = dsolve(feq,x(t)).simplify()\n",
    "dsol = sol.rhs.diff(t)\n",
    "rsol = sol.rhs\n",
    "sol"
   ]
  },
  {
   "cell_type": "code",
   "execution_count": 21,
   "id": "8ecea080",
   "metadata": {},
   "outputs": [],
   "source": [
    "#вычисляем константы\n",
    "if flag == 0:\n",
    "    x1 = parse_expr(a)\n",
    "    x2 = parse_expr(b)\n",
    "    sol1 = sol.subs(t,t1)\n",
    "    sol1 = sol1.subs(x(t1),x1)\n",
    "\n",
    "    sol2 = sol.subs(t,t2)\n",
    "    sol2 = sol2.subs(x(t2),x2)\n",
    "    \n",
    "elif flag == 1:\n",
    "    #L_x'(t1)=0\n",
    "    x2 = parse_expr(b)\n",
    "    sol1 = Eq(lagr.diff(x(t).diff(t)).subs(x(t).diff(t), dsol).subs(t,t1), 0)\n",
    "    \n",
    "    sol2 = sol.subs(t,t2)\n",
    "    sol2 = sol2.subs(x(t2),x2)\n",
    "    \n",
    "elif flag == 2:\n",
    "    #L_x'(t2)=0\n",
    "    x1 = parse_expr(a)\n",
    "    sol1 = sol.subs(t,t1)\n",
    "    sol1 = sol1.subs(x(t1),x1)\n",
    "    \n",
    "    sol2 = Eq(lagr.diff(x(t).diff(t)).subs(x(t).diff(t), dsol).subs(t,t2), 0)\n",
    "    \n",
    "elif flag == 12:\n",
    "    sol1 = Eq(lagr.diff(x(t).diff(t)).subs(x(t).diff(t), dsol).subs(t,t1), 0)\n",
    "    sol2 = Eq(lagr.diff(x(t).diff(t)).subs(x(t).diff(t), dsol).subs(t,t2), 0)\n",
    "    \n",
    "elif flag == 3:\n",
    "    #L_x'(t1) = l_(x'(t1))\n",
    "    L1 = lagr.diff(x(t).diff(t))\n",
    "    sol1 = Eq(L1.subs(x(t).diff(t),dsol).subs(t,t1),l.diff(x1).subs(x1,rsol).subs(t,t1))\n",
    "    sol2 = Eq(L1.subs(x(t).diff(t),dsol).subs(t,t2),l.diff(x2).subs(x2,rsol).subs(t,t2))\n",
    "    "
   ]
  },
  {
   "cell_type": "code",
   "execution_count": 22,
   "id": "fffb5e35",
   "metadata": {},
   "outputs": [
    {
     "data": {
      "text/latex": [
       "$\\displaystyle 2 C_{2} = 2 C_{1}$"
      ],
      "text/plain": [
       "Eq(2*C2, 2*C1)"
      ]
     },
     "execution_count": 22,
     "metadata": {},
     "output_type": "execute_result"
    }
   ],
   "source": [
    "sol1"
   ]
  },
  {
   "cell_type": "code",
   "execution_count": 23,
   "id": "b3150943",
   "metadata": {},
   "outputs": [
    {
     "data": {
      "text/latex": [
       "$\\displaystyle 2 C_{2} - 1 = 2 C_{1} + 2 C_{2} - \\frac{1}{2}$"
      ],
      "text/plain": [
       "Eq(2*C2 - 1, 2*C1 + 2*C2 - 1/2)"
      ]
     },
     "execution_count": 23,
     "metadata": {},
     "output_type": "execute_result"
    }
   ],
   "source": [
    "sol2"
   ]
  },
  {
   "cell_type": "code",
   "execution_count": 24,
   "id": "798cc652",
   "metadata": {
    "scrolled": false
   },
   "outputs": [
    {
     "data": {
      "text/plain": [
       "(-1/4, -1/4)"
      ]
     },
     "execution_count": 24,
     "metadata": {},
     "output_type": "execute_result"
    }
   ],
   "source": [
    "a = linsolve([sol1,sol2],(C1,C2))\n",
    "A1 = list(a)[0][0]\n",
    "A2 = list(a)[0][1]\n",
    "A1, A2"
   ]
  },
  {
   "cell_type": "code",
   "execution_count": 25,
   "id": "774eb6e7",
   "metadata": {},
   "outputs": [
    {
     "data": {
      "text/latex": [
       "$\\displaystyle x{\\left(t \\right)} = - \\frac{t^{2}}{4} - \\frac{t}{4} - \\frac{1}{4}$"
      ],
      "text/plain": [
       "Eq(x(t), -t**2/4 - t/4 - 1/4)"
      ]
     },
     "execution_count": 25,
     "metadata": {},
     "output_type": "execute_result"
    }
   ],
   "source": [
    "#допустимая экстремаль\n",
    "extr = (sol.subs(C1,A1)).subs(C2,A2)\n",
    "extr"
   ]
  },
  {
   "cell_type": "code",
   "execution_count": 26,
   "id": "b2d44337",
   "metadata": {},
   "outputs": [
    {
     "data": {
      "text/latex": [
       "$\\displaystyle - J{\\left(t \\right)} + J{\\left(t + h{\\left(t \\right)} \\right)} = - h{\\left(t \\right)} + \\left(\\frac{d}{d t} h{\\left(t \\right)}\\right)^{2} + 2 \\frac{d}{d t} h{\\left(t \\right)} \\frac{d}{d t} x{\\left(t \\right)}$"
      ],
      "text/plain": [
       "Eq(-J(t) + J(t + h(t)), -h(t) + Derivative(h(t), t)**2 + 2*Derivative(h(t), t)*Derivative(x(t), t))"
      ]
     },
     "execution_count": 26,
     "metadata": {},
     "output_type": "execute_result"
    }
   ],
   "source": [
    "#Варьирование\n",
    "dlagr = (lagr.subs(x(t),x(t)+h(t)).simplify() - lagr).expand()\n",
    "Eq((J(t+h(t))-J(t)).simplify(),dlagr)"
   ]
  },
  {
   "cell_type": "code",
   "execution_count": 27,
   "id": "d87cd66b",
   "metadata": {},
   "outputs": [
    {
     "data": {
      "text/latex": [
       "$\\displaystyle \\left(\\frac{d}{d t} h{\\left(t \\right)}\\right)^{2}$"
      ],
      "text/plain": [
       "Derivative(h(t), t)**2"
      ]
     },
     "execution_count": 27,
     "metadata": {},
     "output_type": "execute_result"
    }
   ],
   "source": [
    "#упрощение\n",
    "#Из необходимого условия экстремума L_x * h + L_x' * h' = 0\n",
    "dlagr = dlagr - (lagr.diff(x(t)) * h(t) + lagr.diff(x(t).diff(t)) * h(t).diff(t))\n",
    "dlagr\n"
   ]
  },
  {
   "cell_type": "code",
   "execution_count": 28,
   "id": "38fc5f26",
   "metadata": {},
   "outputs": [
    {
     "name": "stdout",
     "output_type": "stream",
     "text": [
      "(0 < t, t < 1)\n"
     ]
    }
   ],
   "source": [
    "if (degree(dlagr, h(t).diff(t)) % 2 == 0) and (degree(dlagr, x(t).diff(t)) % 2 == 0):\n",
    "    dlagr = dlagr.subs(h(t).diff(t),t).subs(x(t).diff(t),t)\n",
    "    if (degree(dlagr, h(t)) % 2 == 0) and (degree(dlagr, x(t)) % 2 == 0):\n",
    "        dlagr = dlagr.subs(h(t),t).subs(x(t),t)\n",
    "        print(solve_univariate_inequality(dlagr.subs(h(t).diff(t),t) >= 0, t) and (t1 < t, t < t2))\n",
    "    else:\n",
    "        print(False)\n",
    "else:\n",
    "    print(False)"
   ]
  },
  {
   "cell_type": "code",
   "execution_count": null,
   "id": "e401878a",
   "metadata": {},
   "outputs": [],
   "source": []
  }
 ],
 "metadata": {
  "kernelspec": {
   "display_name": "Python 3 (ipykernel)",
   "language": "python",
   "name": "python3"
  },
  "language_info": {
   "codemirror_mode": {
    "name": "ipython",
    "version": 3
   },
   "file_extension": ".py",
   "mimetype": "text/x-python",
   "name": "python",
   "nbconvert_exporter": "python",
   "pygments_lexer": "ipython3",
   "version": "3.9.13"
  }
 },
 "nbformat": 4,
 "nbformat_minor": 5
}
